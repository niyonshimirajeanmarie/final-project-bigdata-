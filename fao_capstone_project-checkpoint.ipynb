{
 "cells": [
  {
   "cell_type": "markdown",
   "id": "d028014e",
   "metadata": {},
   "source": [
    "# Capstone Project: Predicting Maize Production in Rwanda\n",
    "**Course:** INSY 8413 | Introduction to Big Data Analytics  \n",
    "**Student:** Niyonshimira Jeanmarie  \n",
    "**Sector:** Agriculture  \n",
    "**Dataset:** FAOSTAT – Crop Production – Rwanda  \n",
    "**Tool:** Python  \n",
    "---\n"
   ]
  },
  {
   "cell_type": "markdown",
   "id": "1b95ccf0",
   "metadata": {},
   "source": [
    "## Objectives\n",
    "- Clean and preprocess agricultural data\n",
    "- Analyze trends in maize production\n",
    "- Predict maize production using a regression model\n",
    "- Visualize findings and extract insights\n",
    "---\n"
   ]
  },
  {
   "cell_type": "code",
   "execution_count": null,
   "id": "48e2916b",
   "metadata": {},
   "outputs": [],
   "source": [
    "import pandas as pd\n",
    "import matplotlib.pyplot as plt\n",
    "import seaborn as sns\n",
    "from sklearn.linear_model import LinearRegression\n",
    "from sklearn.metrics import mean_squared_error, r2_score\n",
    "from sklearn.model_selection import train_test_split\n",
    "\n",
    "# Load data\n",
    "df = pd.read_csv(\"fao_rwanda_crop_production.csv\")\n",
    "df.head()\n"
   ]
  },
  {
   "cell_type": "code",
   "execution_count": null,
   "id": "a505df02",
   "metadata": {},
   "outputs": [],
   "source": [
    "# Check for missing values\n",
    "print(\"Missing values per column:\")\n",
    "print(df.isnull().sum())\n",
    "\n",
    "# Ensure correct data types\n",
    "df['Year'] = df['Year'].astype(int)\n",
    "df['Production'] = df['Production'].astype(int)\n",
    "\n",
    "# Summary statistics\n",
    "df.describe()\n"
   ]
  },
  {
   "cell_type": "code",
   "execution_count": null,
   "id": "193fa2fe",
   "metadata": {},
   "outputs": [],
   "source": [
    "# Plot production over time\n",
    "plt.figure(figsize=(10,6))\n",
    "sns.lineplot(data=df, x='Year', y='Production', marker='o')\n",
    "plt.title(\"Maize Production in Rwanda Over Years\")\n",
    "plt.ylabel(\"Production (tonnes)\")\n",
    "plt.xlabel(\"Year\")\n",
    "plt.grid(True)\n",
    "plt.show()\n"
   ]
  },
  {
   "cell_type": "code",
   "execution_count": null,
   "id": "a7fb962d",
   "metadata": {},
   "outputs": [],
   "source": [
    "# Regression: Predict Production based on Area Harvested and Yield\n",
    "X = df[['Area_Harvested', 'Yield']]\n",
    "y = df['Production']\n",
    "\n",
    "X_train, X_test, y_train, y_test = train_test_split(X, y, test_size=0.25, random_state=42)\n",
    "\n",
    "model = LinearRegression()\n",
    "model.fit(X_train, y_train)\n",
    "y_pred = model.predict(X_test)\n",
    "\n",
    "# Evaluate model\n",
    "rmse = mean_squared_error(y_test, y_pred, squared=False)\n",
    "r2 = r2_score(y_test, y_pred)\n",
    "\n",
    "print(f\"RMSE: {rmse:.2f}\")\n",
    "print(f\"R² Score: {r2:.2f}\")\n"
   ]
  },
  {
   "cell_type": "code",
   "execution_count": null,
   "id": "ed249986",
   "metadata": {},
   "outputs": [],
   "source": [
    "# Innovation: Predict production using a custom logic-based estimator (simplified rule)\n",
    "# For example, we create a synthetic estimator based on average yield per area\n",
    "df['Estimated_Production'] = df['Area_Harvested'] * df['Yield']\n",
    "df[['Year', 'Production', 'Estimated_Production']]\n"
   ]
  }
 ],
 "metadata": {},
 "nbformat": 4,
 "nbformat_minor": 5
}